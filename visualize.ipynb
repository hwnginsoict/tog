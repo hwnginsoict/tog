{
 "cells": [
  {
   "cell_type": "code",
   "execution_count": 9,
   "metadata": {},
   "outputs": [
    {
     "name": "stdout",
     "output_type": "stream",
     "text": [
      "Ai là chủ tịch hội đồng quản trị của FPT Smart Cloud Dựa trên các triplet tri thức được cung cấp, không có thông tin cụ thể nào về chủ tịch hội đồng quản trị của FPT Smart Cloud. Do đó, tôi không thể trả lời câu hỏi này. Cần thêm thông tin để xác định ai là chủ tịch hội đồng quản trị của FPT Smart Cloud.\n",
      "Tổng giám đốc công ty FPT Smart Cloud là ai Dựa trên các triplet tri thức được cung cấp, không có thông tin cụ thể nào về tổng giám đốc của công ty FPT Smart Cloud. Do đó, tôi không thể trả lời câu hỏi này. Cần thêm thông tin để xác định tổng giám đốc của công ty FPT Smart Cloud.\n",
      "Ông Lý Việt Thắng làm gì ở FPT Smart Cloud Dựa trên các triplet tri thức được cung cấp, ông Lý Việt Thắng làm việc tại Phòng Marketing của FPT Smart Cloud. Do đó, câu trả lời cho câu hỏi là {Phòng Marketing}.\n",
      "Cho tôi biết ai là phó giám đốc khối Công nghệ Cloud của FPT Smart Cloud Dựa trên các triplet tri thức được cung cấp, không có thông tin nào liên quan đến phó giám đốc khối Công nghệ Cloud của FPT Smart Cloud. Do đó, tôi không thể trả lời câu hỏi này. Bạn có thể cần tìm kiếm thêm thông tin từ các nguồn khác để biết ai là phó giám đốc khối Công nghệ Cloud của FPT Smart Cloud.\n",
      "Khối vận hành của FPT Smart Cloud có những phòng ban nào {Yes}. Dựa trên các triplet tri thức được cung cấp, khối vận hành của FPT Smart Cloud có các phòng ban như Phòng Nhân Sự, Phòng Tài Chính Kế Toán và Phòng Hành Chính. Do đó, câu trả lời cho câu hỏi là {Phòng Nhân Sự, Phòng Tài Chính Kế Toán, Phòng Hành Chính}.\n",
      "Đội ngũ lãnh đạo của FPT Smart Cloud có những ai Dựa trên các triplet tri thức được cung cấp, không có thông tin cụ thể về các thành viên trong đội ngũ lãnh đạo của FPT Smart Cloud. Các triplet chỉ đề cập đến các khối và phòng ban trong tổ chức mà không nêu rõ ai là thành viên lãnh đạo. Do đó, tôi không thể cung cấp câu trả lời cho câu hỏi này. Cần thêm thông tin để xác định đội ngũ lãnh đạo cụ thể.\n",
      "Tầm nhìn chiến lược của FPT Smart Cloud Dựa trên các triplet tri thức được cung cấp, tầm nhìn chiến lược của FPT Smart Cloud có thể liên quan đến việc phát triển và tối ưu hóa các sản phẩm và dịch vụ trong các khối như AI, Công nghệ Cloud, Kinh Doanh, Vận Hành Cloud, Tư Vấn & Triển Khai Cloud, và Phát Triển Dịch Vụ Hạ Tầng Cloud. Tuy nhiên, thông tin cụ thể về tầm nhìn chiến lược không được nêu rõ trong các triplet. Do đó, cần thêm thông tin để đưa ra một câu trả lời chính xác hơn.\n",
      "FPT AI là gì FPT AI là một công ty thuộc tập đoàn FPT, chuyên cung cấp các giải pháp và sản phẩm trí tuệ nhân tạo. Công ty này có nhiều sản phẩm như FPT AI Chat, FPT AI Engage và FPT AI Read, phục vụ cho các nhu cầu khác nhau trong lĩnh vực AI. Do đó, câu trả lời cho câu hỏi là {FPT AI là một công ty cung cấp giải pháp trí tuệ nhân tạo thuộc tập đoàn FPT}.\n",
      "Kể tên các ứng dụng của FPT AI {Yes}. Dựa trên các triplet tri thức được cung cấp, FPT AI có các ứng dụng như FPT AI Chat, FPT AI Engage và FPT AI Read. Do đó, câu trả lời cho câu hỏi là {FPT AI Chat, FPT AI Engage, FPT AI Read}.\n",
      "FPT AI Chat khác gì FPT AI Engage Dựa trên các triplet tri thức được cung cấp, FPT AI Chat và FPT AI Engage đều thuộc về FPT AI. Tuy nhiên, không có thông tin cụ thể nào về sự khác biệt giữa FPT AI Chat và FPT AI Engage trong các triplet này. Do đó, tôi không thể đưa ra câu trả lời chính xác về sự khác biệt giữa hai dịch vụ này dựa trên thông tin hiện có. Cần thêm thông tin để xác định sự khác biệt giữa FPT AI Chat và FPT AI Engage.\n",
      "Mục tiêu của FPT AI là gì Dựa trên các triplet tri thức được cung cấp, không có thông tin cụ thể nào về mục tiêu của FPT AI. Tuy nhiên, FPT AI có thể liên quan đến các sản phẩm và dịch vụ như FPT AI Chat, FPT AI Engage và FPT AI Read. Để trả lời câu hỏi về mục tiêu của FPT AI, cần thêm thông tin chi tiết về các sản phẩm và dịch vụ này. Do đó, tôi không thể cung cấp một câu trả lời chính xác cho câu hỏi này dựa trên các triplet hiện có.\n",
      "Sản phẩm nền tảng nhận diện và trích xuất thông tin từ ảnh chụp là gì Sản phẩm nền tảng nhận diện và trích xuất thông tin từ ảnh chụp thường được gọi là \"nhận diện hình ảnh\" (image recognition) hoặc \"trích xuất thông tin từ hình ảnh\" (image information extraction). Các công nghệ và phần mềm liên quan có thể bao gồm các hệ thống học máy (machine learning), thị giác máy tính (computer vision) và các ứng dụng AI như OCR (nhận diện ký tự quang học) để chuyển đổi văn bản trong hình ảnh thành văn bản có thể chỉnh sửa. Một số sản phẩm nổi bật trong lĩnh vực này bao gồm Google Vision API, Amazon Rekognition và Microsoft Azure Computer Vision.\n",
      "FPT AI eKYC có khả năng gì Dựa trên các triplet tri thức được cung cấp, không có thông tin cụ thể nào về khả năng của FPT AI eKYC. Tuy nhiên, FPT AI là một phần của FPT AI và có thể liên quan đến các sản phẩm như FPT AI Chat, FPT AI Engage và FPT AI Read. Để có thông tin chính xác về khả năng của FPT AI eKYC, cần thêm dữ liệu hoặc kiến thức cụ thể hơn về sản phẩm này. Do đó, câu trả lời cho câu hỏi không thể xác định rõ ràng từ các triplet hiện có.\n",
      "Giải pháp FPT.AI được kì vọng thế nào Dựa trên câu hỏi \"Giải pháp FPT.AI được kỳ vọng thế nào\" và không có triplet tri thức nào được cung cấp, tôi không thể đưa ra câu trả lời cụ thể. Tuy nhiên, nếu bạn có thêm thông tin hoặc triplet liên quan đến FPT.AI, tôi có thể giúp bạn phân tích và đưa ra câu trả lời chính xác hơn. Bạn có thể cung cấp thêm thông tin không?\n",
      "Liệt kê các công ty thành viên của tập đoàn FPT Dựa trên câu hỏi về các công ty thành viên của tập đoàn FPT, tuy nhiên, trong các triplet tri thức được cung cấp không có thông tin cụ thể nào liên quan đến các công ty thành viên của FPT. Do đó, tôi không thể cung cấp câu trả lời cho câu hỏi này. Bạn có thể tham khảo thêm thông tin từ các nguồn khác hoặc trang web chính thức của tập đoàn FPT để biết thêm chi tiết.\n",
      "Tập đoàn FPT có thuộc top 100 doanh nghiệp lớn nhất Việt Nam không Dựa trên các triplet tri thức được cung cấp, không có thông tin cụ thể nào về Tập đoàn FPT và vị trí của nó trong danh sách 100 doanh nghiệp lớn nhất Việt Nam. Tuy nhiên, theo kiến thức của tôi, Tập đoàn FPT thường được coi là một trong những doanh nghiệp lớn tại Việt Nam. Do đó, câu trả lời cho câu hỏi là {Có, Tập đoàn FPT thuộc top 100 doanh nghiệp lớn nhất Việt Nam}.\n",
      "Kể tên một vài thành tựu mà FPT đã đạt được Dựa trên các triplet tri thức được cung cấp, không có thông tin cụ thể nào về các thành tựu của FPT. Tuy nhiên, dựa trên kiến thức của tôi, FPT (Công ty Cổ phần FPT) là một trong những tập đoàn công nghệ hàng đầu tại Việt Nam, nổi bật với các thành tựu như:\n",
      "\n",
      "1. **Là một trong những công ty công nghệ thông tin lớn nhất Việt Nam**: FPT đã phát triển mạnh mẽ trong lĩnh vực phần mềm, dịch vụ CNTT và viễn thông.\n",
      "2. **Xuất khẩu phần mềm**: FPT đã xuất khẩu phần mềm và dịch vụ CNTT sang nhiều quốc gia trên thế giới, góp phần nâng cao vị thế của Việt Nam trong ngành công nghệ toàn cầu.\n",
      "3. **Đầu tư vào công nghệ mới**: FPT đã đầu tư vào các lĩnh vực công nghệ mới như trí tuệ nhân tạo, điện toán đám mây và IoT (Internet of Things).\n",
      "4. **Giải thưởng và chứng nhận**: FPT đã nhận được nhiều giải thưởng trong nước và quốc tế về chất lượng dịch vụ và sản phẩm.\n",
      "\n",
      "Nếu bạn cần thông tin cụ thể hơn về các thành tựu của F\n",
      "Lĩnh vực hoạt động chính của FPT Dựa trên các triplet tri thức được cung cấp, không có thông tin cụ thể nào về lĩnh vực hoạt động chính của FPT. Tuy nhiên, theo kiến thức của tôi, FPT là một tập đoàn công nghệ thông tin lớn tại Việt Nam, hoạt động chủ yếu trong các lĩnh vực như công nghệ thông tin, viễn thông, và dịch vụ phần mềm. Do đó, câu trả lời cho câu hỏi là {Công nghệ thông tin, Viễn thông, Dịch vụ phần mềm}.\n",
      "Công ty liên kết của FPT là Dựa trên câu hỏi \"Công ty liên kết của FPT là gì?\" và các triplet tri thức được cung cấp, không có thông tin cụ thể nào về các công ty liên kết của FPT trong các triplet. Do đó, tôi không thể cung cấp câu trả lời chính xác cho câu hỏi này. Bạn có thể cần tìm kiếm thêm thông tin từ các nguồn khác để biết về các công ty liên kết của FPT.\n",
      "FPT.AI được kì vọng tiết kiệm 80% chi phí phải không Dựa trên câu hỏi và các triplet tri thức được cung cấp, không có thông tin cụ thể nào liên quan đến FPT.AI và mức tiết kiệm chi phí 80%. Do đó, tôi không thể xác nhận hoặc phủ nhận thông tin này. Cần thêm dữ liệu hoặc nguồn thông tin để trả lời câu hỏi một cách chính xác.\n",
      "FPT AI cung cấp mấy giải pháp {Yes}. Dựa trên các triplet tri thức được cung cấp, FPT AI cung cấp ba giải pháp: FPT AI Chat, FPT AI Engage và FPT AI Read. Do đó, câu trả lời cho câu hỏi là {ba giải pháp}.\n",
      "Giải pháp nào của FPT AI có giọng nói {Yes}. Dựa trên các triplet tri thức được cung cấp, FPT AI có các giải pháp giọng nói như FPT AI Chat, FPT AI Engage và FPT AI Read. Do đó, câu trả lời cho câu hỏi là {FPT AI Chat, FPT AI Engage, FPT AI Read}.\n",
      "FPT AI Enhance và Engage khác gì nhau Dựa trên các triplet tri thức được cung cấp, không có thông tin cụ thể nào về sự khác biệt giữa FPT AI Enhance và FPT AI Engage. Các triplet chỉ đề cập đến sự liên kết với FPT AI và các sản phẩm khác của FPT AI như FPT AI Chat và FPT AI Read. Để trả lời câu hỏi về sự khác nhau giữa FPT AI Enhance và FPT AI Engage, cần thêm thông tin chi tiết về chức năng, mục đích hoặc tính năng của từng sản phẩm. Do đó, không thể đưa ra câu trả lời chính xác dựa trên các triplet hiện có.\n",
      "FPT AI eKYC dùng để làm gì Dựa trên các triplet tri thức được cung cấp, không có thông tin cụ thể nào về FPT AI eKYC và mục đích sử dụng của nó. Tuy nhiên, từ kiến thức chung, FPT AI eKYC thường được sử dụng để xác thực danh tính khách hàng qua các công nghệ nhận diện và xác minh thông tin, nhằm đảm bảo an toàn và tuân thủ quy định trong các giao dịch tài chính và dịch vụ trực tuyến. Do đó, câu trả lời cho câu hỏi là FPT AI eKYC được sử dụng để xác thực danh tính khách hàng.\n"
     ]
    }
   ],
   "source": [
    "import json\n",
    "\n",
    "# Open the .jsonl file\n",
    "with open('F:\\\\CodingEnvironment\\\\tog\\\\ToG_fci.jsonl', 'r', encoding='utf-8') as f:\n",
    "    # Read each line as a separate JSON object\n",
    "    for line in f:\n",
    "        # Parse the line as JSON\n",
    "        data = json.loads(line)\n",
    "        # Access data in the JSON object (for example, printing a specific field)\n",
    "        print(data['question'], data['results'])   # Adjust this to the structure of your JSON\n"
   ]
  },
  {
   "cell_type": "code",
   "execution_count": 6,
   "metadata": {},
   "outputs": [
    {
     "name": "stdout",
     "output_type": "stream",
     "text": [
      "question\n",
      "results\n",
      "reasoning_chains\n"
     ]
    }
   ],
   "source": [
    "for d in data:\n",
    "    print(d)"
   ]
  },
  {
   "cell_type": "code",
   "execution_count": 2,
   "metadata": {},
   "outputs": [
    {
     "name": "stdout",
     "output_type": "stream",
     "text": [
      "Data successfully written to ToG_fci_output.csv\n"
     ]
    }
   ],
   "source": [
    "import json\n",
    "import csv\n",
    "\n",
    "# File paths\n",
    "input_file = 'F:\\\\CodingEnvironment\\\\tog\\\\ToG_fci.jsonl'\n",
    "output_file = 'ToG_fci_output.csv'\n",
    "\n",
    "# Open the .jsonl file and a new CSV file to write the output\n",
    "with open(input_file, 'r', encoding='utf-8') as jsonl_file, open(output_file, 'w', newline='', encoding='utf-8') as csv_file:\n",
    "    # Create a CSV writer object\n",
    "    csv_writer = csv.writer(csv_file)\n",
    "    \n",
    "    # Write the header for the CSV file\n",
    "    csv_writer.writerow(['question', 'result'])\n",
    "    \n",
    "    # Read each line from the .jsonl file\n",
    "    for line in jsonl_file:\n",
    "        # Parse the line as a JSON object\n",
    "        data = json.loads(line)\n",
    "        \n",
    "        # Extract 'question' and 'result' (adjust the key names based on the structure of your JSON)\n",
    "        question = data.get('question', '')\n",
    "        result = data.get('results', '')\n",
    "        \n",
    "        # Write the question and result as a row in the CSV file\n",
    "        csv_writer.writerow([question, result])\n",
    "\n",
    "print(f\"Data successfully written to {output_file}\")"
   ]
  },
  {
   "cell_type": "code",
   "execution_count": null,
   "metadata": {},
   "outputs": [],
   "source": []
  }
 ],
 "metadata": {
  "kernelspec": {
   "display_name": "base",
   "language": "python",
   "name": "python3"
  },
  "language_info": {
   "codemirror_mode": {
    "name": "ipython",
    "version": 3
   },
   "file_extension": ".py",
   "mimetype": "text/x-python",
   "name": "python",
   "nbconvert_exporter": "python",
   "pygments_lexer": "ipython3",
   "version": "3.9.7"
  }
 },
 "nbformat": 4,
 "nbformat_minor": 2
}
