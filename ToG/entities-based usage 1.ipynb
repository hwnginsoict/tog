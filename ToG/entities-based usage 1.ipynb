{
 "cells": [
  {
   "cell_type": "code",
   "execution_count": 9,
   "metadata": {},
   "outputs": [],
   "source": [
    "import json\n",
    "from arango import ArangoClient\n",
    "from langchain_community.graphs import ArangoGraph\n",
    "\n",
    "# change tenant_id\n",
    "tenant_id = 'ke'\n",
    "NODE_COLLECTION = 'nodes'\n",
    "RELATIONSHIP_COLLECTION = 'relationships'\n",
    "\n",
    "client = ArangoClient(hosts='http://localhost:8529')\n",
    "\n",
    "sys_db = client.db(\n",
    "    '_system',\n",
    "    username = 'root',\n",
    "    password = ''\n",
    "   )\n",
    "\n",
    "db = client.db(tenant_id)\n",
    "graph_db = ArangoGraph(db)\n",
    "# print(json.dumps(graph_db.schema, indent=4, ensure_ascii=False))"
   ]
  },
  {
   "cell_type": "code",
   "execution_count": 10,
   "metadata": {},
   "outputs": [
    {
     "name": "stdout",
     "output_type": "stream",
     "text": [
      "['nodes/08e95f85-d234-5e70-ab3f-b6cd29f5938d', 'nodes/947147eb-1745-52ad-b1b8-c271813a600b']\n"
     ]
    }
   ],
   "source": [
    "entity_id = \"fpt\"\n",
    "entity = graph_db.query(f\"\"\"\n",
    "                FOR n IN {NODE_COLLECTION}\n",
    "                FILTER n._query_name == '{entity_id.lower()}'\n",
    "                RETURN n._id\n",
    "               \"\"\")\n",
    "# print(json.dumps(result, indent=4, ensure_ascii=False))\n",
    "print(entity)"
   ]
  },
  {
   "cell_type": "code",
   "execution_count": 11,
   "metadata": {},
   "outputs": [
    {
     "name": "stdout",
     "output_type": "stream",
     "text": [
      "Tập đoàn FPT có trường Đại học FPT trực thuộc, nơi đào tạo và nghiên cứu trong lĩnh vực công nghệ thông tin.\n",
      "FPT eCovax là nền tảng do Tập đoàn FPT khởi xướng nhằm hỗ trợ các doanh nghiệp trong việc vận hành và kinh doanh trong thời kỳ bình thường mới.\n",
      "FPT đã đầu tư chiến lược vào Base.vn, nền tảng quản trị doanh nghiệp số 1 tại Việt Nam, nhằm thúc đẩy chuyển đổi số cho các doanh nghiệp SMEs.\n",
      "Tập đoàn FPT đã ký kết thỏa thuận hợp tác chiến lược với Viện nghiên cứu trí tuệ nhân tạo hàng đầu thế giới Mila, mở ra cơ hội nâng cao năng lực công nghệ cho cộng đồng công nghệ trẻ Việt Nam.\n",
      "FPT đã tổ chức sự kiện phát hành cổ phiếu với Quỹ đầu tư Texas Pacific Group (TPG), nhằm tăng cường vốn cho hoạt động kinh doanh.\n",
      "Tập đoàn FPT đã có sự kiện hợp tác với Intel Capital, qua đó nhận được khoản đầu tư 36,5 triệu USD để phát triển công nghệ.\n",
      "FPT trở thành cổ đông chiến lược của LTS, Inc., công ty hàng đầu trong lĩnh vực tư vấn và chuyển đổi số tại Nhật Bản, nhằm tăng cường mối quan hệ hợp tác quốc tế.\n",
      "Tập đoàn FPT là tổ chức mẹ của FPT Smart Cloud, một thành viên cung cấp giải pháp ứng dụng Trí tuệ nhân tạo và Điện toán đám mây hàng đầu tại Việt Nam.\n",
      "Tập đoàn FPT có Công ty TNHH Phần mềm FPT là một thành viên.\n",
      "Tập đoàn FPT có Công ty Cổ phần Viễn thông FPT là một thành viên.\n",
      "Tập đoàn FPT có Công ty Cổ phần Dịch vụ Trực tuyến FPT là một thành viên.\n",
      "Tập đoàn FPT có Công ty TNHH Giáo dục FPT là một thành viên.\n",
      "Tập đoàn FPT có Công ty TNHH Đầu tư FPT là một thành viên.\n",
      "Tập đoàn FPT có Công ty TNHH FPT Digital là một thành viên.\n",
      "Tập đoàn FPT có công ty liên kết là Công ty Cổ phần Synnex FPT.\n",
      "Tập đoàn FPT có công ty liên kết là Công ty Cổ phần Bán lẻ Kỹ thuật số FPT.\n",
      "FPT có các lĩnh vực hoạt động chính bao gồm Công nghệ.\n",
      "FPT có các lĩnh vực hoạt động chính bao gồm Viễn thông.\n",
      "FPT có các lĩnh vực hoạt động chính bao gồm Giáo dục.\n",
      "Tập đoàn FPT có Công ty TNHH Hệ thống Thông tin FPT là một thành viên.\n",
      "FPT có thành viên là Đại học FPT, đại học đầu tiên của Việt Nam được QS xếp hạng 3 sao trong 3 kỳ liên tiếp.\n",
      "FPT đã nhận Huân chương Lao động hạng Nhất vào năm 2003, ghi nhận cho những đóng góp của mình từ năm 1998 đến 2002.\n",
      "FPT được phong tặng danh hiệu Anh hùng lực lượng vũ trang nhân dân vào năm 1998.\n",
      "FPT đã được xếp hạng trong Top 500 doanh nghiệp lớn nhất Việt Nam theo bảng xếp hạng VNR500 từ năm 2007 tới 2021.\n",
      "FPT cũng nằm trong Top 20 doanh nghiệp tư nhân lớn nhất Việt Nam theo bảng xếp hạng VNR500 từ năm 2007 tới 2021.\n",
      "FPT được vinh danh trong Top 50 thương hiệu công ty có giá trị nhất Việt Nam từ năm 2015 tới 2021.\n",
      "FPT nằm trong Top 100 nhà cung cấp dịch vụ ủy thác theo IAOP vào năm 2014.\n",
      "FPT được xếp hạng trong Top 300 công ty châu Á có hoạt động kinh doanh tốt nhất vào năm 2015.\n",
      "FPT được ghi nhận trong Top 130 công ty có môi trường làm việc tốt nhất khu vực châu Á vào năm 2018.\n",
      "FPT đã được AsiaMoney vinh danh là công ty nổi bật nhất tại Việt Nam trong lĩnh vực công nghệ thông tin và dịch vụ viễn thông vào năm 2021 và 2022.\n",
      "FPT là doanh nghiệp Việt Nam duy nhất được vinh danh ở hạng mục Doanh nghiệp Ứng phó Covid-19 hiệu quả nhất theo Stevie® Award.\n",
      "Ông Trương Gia Bình, Chủ tịch Hội đồng Quản trị Tập đoàn FPT, đã có nhiều năm làm việc tại công ty và đóng góp vào sự phát triển của FPT.\n",
      "Ông Bùi Quang Ngọc, Tiến sĩ về cơ sở dữ liệu, đã làm việc tại Tập đoàn FPT và giữ chức vụ Tổng Giám đốc trước khi được thay thế.\n",
      "Ông Trương Đình Anh đã đảm nhiệm vị trí Tổng Giám đốc Tập đoàn FPT trong một thời gian sau khi được bổ nhiệm.\n"
     ]
    }
   ],
   "source": [
    "\n",
    "result = graph_db.query(f\"\"\"\n",
    "                FOR r IN {RELATIONSHIP_COLLECTION}\n",
    "                FILTER r._from in {entity}\n",
    "                OR r._to in {entity}\n",
    "                RETURN r.triplet_sentence\n",
    "               \"\"\")\n",
    "for i in result:\n",
    "    print(i)"
   ]
  },
  {
   "cell_type": "code",
   "execution_count": 5,
   "metadata": {},
   "outputs": [],
   "source": [
    "from dotenv import load_dotenv\n",
    "import os\n",
    "\n",
    "# Load the .env file\n",
    "load_dotenv()\n",
    "openai_api_key = os.getenv(\"OPENAI_API_KEY\")"
   ]
  },
  {
   "cell_type": "code",
   "execution_count": 6,
   "metadata": {},
   "outputs": [],
   "source": [
    "from langchain_openai import ChatOpenAI\n",
    "from langchain_core.output_parsers import StrOutputParser\n",
    "from langchain_core.prompts import PromptTemplate\n",
    "\n",
    "prompt_template = \"\"\"# GOAL\n",
    "Extract all entities from the following TEXT INPUT. \n",
    "Entities belong to one of the following topics: Person, Organization, Event, Product and Services, Location, Time,...\n",
    "\n",
    "# EXAMPLE\n",
    "\"Bà Đỗ Mỹ Linh quê ở đâu?\"\n",
    "Output: [\"Đỗ Mỹ Linh\"]\n",
    "\n",
    "EXAMPLE\n",
    "\"Ông Kim Ri Cha là giám đốc công ty cổ phần RICONS\"\n",
    "Output: [\"Kim Ri Cha\", \"RICONS\"]\n",
    "\n",
    "Extract all entities based on TEXT INPUT below and following EXAMPLE above:\n",
    "\"{input}\"\n",
    "\n",
    "# Output: \n",
    "Only return as list of entities in the format below:\n",
    "[\"entity_1\", \"entity_2\", ..., \"entity_n\"]\"\"\"\n",
    "\n",
    "prompt = PromptTemplate.from_template(prompt_template)\n",
    "\n",
    "llm_extracttion = ChatOpenAI(model='gpt-4o-mini', temperature=0.1, api_key=openai_api_key)\n",
    "entity_extraction_chain = (\n",
    "    prompt\n",
    "    | llm_extracttion\n",
    "    | StrOutputParser()\n",
    ")\n",
    "\n",
    "prompt_template = \"\"\"# TASK\n",
    "Answers QUESTION based on the CONTEXT provided below:\n",
    "-- start_context --\n",
    "\n",
    "{context}\n",
    "\n",
    "-- end_context --\n",
    "\n",
    "# INSTRUCTIONS\n",
    "- Please present your answer clearly based on the given CONTEXT.\n",
    "- Do not fabricate answer content, only answer based on CONTEXT.\n",
    "\n",
    "Answer the following QUESTION based on the given CONTEXT and the above INSTRUCTIONS:\n",
    "\"{question}\"\n",
    "\n",
    "Answer:\"\"\"\n",
    "prompt = PromptTemplate.from_template(prompt_template)\n",
    "\n",
    "llm = ChatOpenAI(model='gpt-4o-mini', temperature=0.5)\n",
    "answer_chain = (\n",
    "    prompt\n",
    "    | llm\n",
    "    | StrOutputParser()\n",
    ")\n",
    "\n",
    "def get_triplets_by_entites(entites):\n",
    "    triplets = list()\n",
    "    for entity in entites:\n",
    "        node_ids = graph_db.query(f\"\"\"\n",
    "                FOR n IN {NODE_COLLECTION}\n",
    "                FILTER n._query_name == '{entity.lower()}'\n",
    "                RETURN n._id\n",
    "               \"\"\")\n",
    "        if len(node_ids) == 0: \n",
    "            continue\n",
    "        for node_id in node_ids:\n",
    "            result = graph_db.query(f\"\"\"\n",
    "                    FOR r IN {RELATIONSHIP_COLLECTION}\n",
    "                    FILTER r._from == '{node_id}' \n",
    "                    OR r._to == '{node_id}'\n",
    "                    RETURN r.triplet_sentence\n",
    "                \"\"\")\n",
    "            triplets.extend(result)\n",
    "    return triplets\n",
    "\n",
    "def get_answer(query):\n",
    "    input = {'input': query}\n",
    "    response = entity_extraction_chain.invoke(input)\n",
    "    entites = json.loads(response.strip())\n",
    "    print(entites)\n",
    "    triplets = get_triplets_by_entites(entites)\n",
    "    print(json.dumps(triplets, indent=4, ensure_ascii=False))\n",
    "    context = '\\n'.join(f\"{i+1}. {str(triplet)}\" for i, triplet in enumerate(triplets))\n",
    "    # triplets = '\\n'.join(str(triplet) for triplet in triplets)\n",
    "    input = {'question': query, 'context': context}\n",
    "    response = answer_chain.invoke(input)\n",
    "    return response.strip()"
   ]
  },
  {
   "cell_type": "code",
   "execution_count": 7,
   "metadata": {},
   "outputs": [
    {
     "name": "stdout",
     "output_type": "stream",
     "text": [
      "['FPT AI']\n",
      "[\n",
      "    \"FPT AI có giải pháp FPT AI Chat, nền tảng hội thoại thông minh cho phép tạo lập và quản lý chatbot tự động giao tiếp hai chiều với khách hàng.\",\n",
      "    \"FPT AI cung cấp giải pháp FPT AI Engage, nền tảng trợ lý ảo tổng đài thực hiện cuộc gọi tự động hai chiều với giọng nói tự nhiên.\",\n",
      "    \"FPT AI sở hữu giải pháp FPT AI Read, nền tảng nhận diện và trích xuất thông tin từ ảnh chụp với khả năng xử lý đa dạng mọi loại văn bản.\",\n",
      "    \"FPT AI có giải pháp FPT AI Enhance, cho phép tổng đài tự động toàn diện quy trình quản lý chất lượng và theo dõi các chỉ số chuyên sâu theo thời gian thực.\",\n",
      "    \"FPT AI cung cấp giải pháp FPT AI eKYC, khả năng định danh khách hàng hoàn chỉnh với nhiều cấp độ bảo mật.\",\n",
      "    \"FPT AI giúp nâng cao hiệu suất xử lý công việc, mang lại sự kết hợp hoàn hảo giữa người và máy.\",\n",
      "    \"FPT AI gắn kết khách hàng hiệu quả thông qua việc tiếp cận, tương tác và thu hút tối đa khách hàng.\",\n",
      "    \"FPT AI kiến tạo giá trị mới cho khách hàng thông qua việc thiết lập những trải nghiệm mới và thói quen sử dụng mới giữa doanh nghiệp và người dùng cuối.\",\n",
      "    \"FPT AI kỳ vọng tạo đột phá trong hoạt động vận hành của doanh nghiệp, với mục tiêu tăng 80% năng suất, tiết kiệm 60% chi phí và tiết kiệm 90% thời gian.\",\n",
      "    \"FPT Smart Cloud sở hữu nền tảng FPT AI, mang đến các giải pháp trí tuệ nhân tạo toàn diện cho doanh nghiệp.\"\n",
      "]\n",
      "FPT AI là một nền tảng trí tuệ nhân tạo do FPT phát triển, cung cấp các giải pháp như FPT AI Chat (nền tảng hội thoại thông minh), FPT AI Engage (trợ lý ảo tổng đài), FPT AI Read (nhận diện và trích xuất thông tin từ ảnh), FPT AI Enhance (quản lý chất lượng và theo dõi chỉ số), và FPT AI eKYC (định danh khách hàng). Mục tiêu của FPT AI là nâng cao hiệu suất xử lý công việc, gắn kết khách hàng hiệu quả, và tạo ra giá trị mới cho doanh nghiệp, với kỳ vọng tăng 80% năng suất, tiết kiệm 60% chi phí và 90% thời gian. FPT Smart Cloud cũng sở hữu nền tảng này, mang đến các giải pháp trí tuệ nhân tạo toàn diện cho doanh nghiệp.\n"
     ]
    }
   ],
   "source": [
    "query = \"\"\"FPT AI là gì?\"\"\"\n",
    "answer = get_answer(query)\n",
    "print(answer)"
   ]
  },
  {
   "cell_type": "code",
   "execution_count": null,
   "metadata": {},
   "outputs": [],
   "source": []
  }
 ],
 "metadata": {
  "kernelspec": {
   "display_name": "base",
   "language": "python",
   "name": "python3"
  },
  "language_info": {
   "codemirror_mode": {
    "name": "ipython",
    "version": 3
   },
   "file_extension": ".py",
   "mimetype": "text/x-python",
   "name": "python",
   "nbconvert_exporter": "python",
   "pygments_lexer": "ipython3",
   "version": "3.9.7"
  }
 },
 "nbformat": 4,
 "nbformat_minor": 2
}
