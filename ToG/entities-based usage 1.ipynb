{
 "cells": [
  {
   "cell_type": "code",
   "execution_count": 1,
   "metadata": {},
   "outputs": [],
   "source": [
    "import json\n",
    "from arango import ArangoClient\n",
    "from langchain_community.graphs import ArangoGraph\n",
    "\n",
    "# change tenant_id\n",
    "tenant_id = 'ke'\n",
    "NODE_COLLECTION = 'nodes'\n",
    "RELATIONSHIP_COLLECTION = 'relationships'\n",
    "\n",
    "client = ArangoClient(hosts='http://localhost:8529')\n",
    "\n",
    "sys_db = client.db(\n",
    "    '_system',\n",
    "    username = 'root',\n",
    "    password = ''\n",
    "   )\n",
    "\n",
    "db = client.db(tenant_id)\n",
    "graph_db = ArangoGraph(db)\n",
    "# print(json.dumps(graph_db.schema, indent=4, ensure_ascii=False))"
   ]
  },
  {
   "cell_type": "code",
   "execution_count": 7,
   "metadata": {},
   "outputs": [
    {
     "name": "stdout",
     "output_type": "stream",
     "text": [
      "['nodes/0fd5d0ae-f2c3-56d7-85ab-fb0469062afd', 'nodes/75acaa43-d674-5571-91d7-604528346979']\n"
     ]
    }
   ],
   "source": [
    "entity_id = \"fpt smart cloud\"\n",
    "entity = graph_db.query(f\"\"\"\n",
    "                FOR n IN {NODE_COLLECTION}\n",
    "                FILTER n._query_name == '{entity_id.lower()}'\n",
    "                RETURN n._id\n",
    "               \"\"\")\n",
    "# print(json.dumps(result, indent=4, ensure_ascii=False))\n",
    "print(entity)"
   ]
  },
  {
   "cell_type": "code",
   "execution_count": 8,
   "metadata": {},
   "outputs": [
    {
     "name": "stdout",
     "output_type": "stream",
     "text": [
      "['FPT AI có giải pháp FPT AI Chat, nền tảng hội thoại thông minh cho phép tạo lập và quản lý chatbot tự động giao tiếp hai chiều với khách hàng.', 'FPT AI cung cấp giải pháp FPT AI Engage, nền tảng trợ lý ảo tổng đài thực hiện cuộc gọi tự động hai chiều với giọng nói tự nhiên.', 'FPT AI sở hữu giải pháp FPT AI Read, nền tảng nhận diện và trích xuất thông tin từ ảnh chụp với khả năng xử lý đa dạng mọi loại văn bản.', 'FPT AI có giải pháp FPT AI Enhance, cho phép tổng đài tự động toàn diện quy trình quản lý chất lượng và theo dõi các chỉ số chuyên sâu theo thời gian thực.', 'FPT AI cung cấp giải pháp FPT AI eKYC, khả năng định danh khách hàng hoàn chỉnh với nhiều cấp độ bảo mật.', 'FPT AI giúp nâng cao hiệu suất xử lý công việc, mang lại sự kết hợp hoàn hảo giữa người và máy.', 'FPT AI gắn kết khách hàng hiệu quả thông qua việc tiếp cận, tương tác và thu hút tối đa khách hàng.', 'FPT AI kiến tạo giá trị mới cho khách hàng thông qua việc thiết lập những trải nghiệm mới và thói quen sử dụng mới giữa doanh nghiệp và người dùng cuối.', 'FPT AI kỳ vọng tạo đột phá trong hoạt động vận hành của doanh nghiệp, với mục tiêu tăng 80% năng suất, tiết kiệm 60% chi phí và tiết kiệm 90% thời gian.', 'FPT Smart Cloud sở hữu nền tảng FPT AI, mang đến các giải pháp trí tuệ nhân tạo toàn diện cho doanh nghiệp.']\n"
     ]
    }
   ],
   "source": [
    "\n",
    "result = graph_db.query(f\"\"\"\n",
    "                FOR r IN {RELATIONSHIP_COLLECTION}\n",
    "                FILTER r._from in {entity}\n",
    "                OR r._to == 'nodes/c43854b8-f01f-5667-aac5-8bd7ca88b1da'\n",
    "                RETURN r.triplet_sentence\n",
    "               \"\"\")\n",
    "print(result)"
   ]
  },
  {
   "cell_type": "code",
   "execution_count": 14,
   "metadata": {},
   "outputs": [
    {
     "name": "stdout",
     "output_type": "stream",
     "text": [
      "FPT AI có giải pháp FPT AI Chat, nền tảng hội thoại thông minh cho phép tạo lập và quản lý chatbot tự động giao tiếp hai chiều với khách hàng.\n",
      "FPT AI cung cấp giải pháp FPT AI Engage, nền tảng trợ lý ảo tổng đài thực hiện cuộc gọi tự động hai chiều với giọng nói tự nhiên.\n",
      "FPT AI sở hữu giải pháp FPT AI Read, nền tảng nhận diện và trích xuất thông tin từ ảnh chụp với khả năng xử lý đa dạng mọi loại văn bản.\n",
      "FPT AI có giải pháp FPT AI Enhance, cho phép tổng đài tự động toàn diện quy trình quản lý chất lượng và theo dõi các chỉ số chuyên sâu theo thời gian thực.\n",
      "FPT AI cung cấp giải pháp FPT AI eKYC, khả năng định danh khách hàng hoàn chỉnh với nhiều cấp độ bảo mật.\n",
      "FPT AI giúp nâng cao hiệu suất xử lý công việc, mang lại sự kết hợp hoàn hảo giữa người và máy.\n",
      "FPT AI gắn kết khách hàng hiệu quả thông qua việc tiếp cận, tương tác và thu hút tối đa khách hàng.\n",
      "FPT AI kiến tạo giá trị mới cho khách hàng thông qua việc thiết lập những trải nghiệm mới và thói quen sử dụng mới giữa doanh nghiệp và người dùng cuối.\n",
      "FPT AI kỳ vọng tạo đột phá trong hoạt động vận hành của doanh nghiệp, với mục tiêu tăng 80% năng suất, tiết kiệm 60% chi phí và tiết kiệm 90% thời gian.\n",
      "FPT Smart Cloud sở hữu nền tảng FPT AI, mang đến các giải pháp trí tuệ nhân tạo toàn diện cho doanh nghiệp.\n"
     ]
    }
   ],
   "source": [
    "for i in result:\n",
    "    print(i)"
   ]
  },
  {
   "cell_type": "code",
   "execution_count": 5,
   "metadata": {},
   "outputs": [],
   "source": [
    "from dotenv import load_dotenv\n",
    "import os\n",
    "\n",
    "# Load the .env file\n",
    "load_dotenv()\n",
    "openai_api_key = os.getenv(\"OPENAI_API_KEY\")"
   ]
  },
  {
   "cell_type": "code",
   "execution_count": 6,
   "metadata": {},
   "outputs": [],
   "source": [
    "from langchain_openai import ChatOpenAI\n",
    "from langchain_core.output_parsers import StrOutputParser\n",
    "from langchain_core.prompts import PromptTemplate\n",
    "\n",
    "prompt_template = \"\"\"# GOAL\n",
    "Extract all entities from the following TEXT INPUT. \n",
    "Entities belong to one of the following topics: Person, Organization, Event, Product and Services, Location, Time,...\n",
    "\n",
    "# EXAMPLE\n",
    "\"Bà Đỗ Mỹ Linh quê ở đâu?\"\n",
    "Output: [\"Đỗ Mỹ Linh\"]\n",
    "\n",
    "EXAMPLE\n",
    "\"Ông Kim Ri Cha là giám đốc công ty cổ phần RICONS\"\n",
    "Output: [\"Kim Ri Cha\", \"RICONS\"]\n",
    "\n",
    "Extract all entities based on TEXT INPUT below and following EXAMPLE above:\n",
    "\"{input}\"\n",
    "\n",
    "# Output: \n",
    "Only return as list of entities in the format below:\n",
    "[\"entity_1\", \"entity_2\", ..., \"entity_n\"]\"\"\"\n",
    "\n",
    "prompt = PromptTemplate.from_template(prompt_template)\n",
    "\n",
    "llm_extracttion = ChatOpenAI(model='gpt-4o-mini', temperature=0.1, api_key=openai_api_key)\n",
    "entity_extraction_chain = (\n",
    "    prompt\n",
    "    | llm_extracttion\n",
    "    | StrOutputParser()\n",
    ")\n",
    "\n",
    "prompt_template = \"\"\"# TASK\n",
    "Answers QUESTION based on the CONTEXT provided below:\n",
    "-- start_context --\n",
    "\n",
    "{context}\n",
    "\n",
    "-- end_context --\n",
    "\n",
    "# INSTRUCTIONS\n",
    "- Please present your answer clearly based on the given CONTEXT.\n",
    "- Do not fabricate answer content, only answer based on CONTEXT.\n",
    "\n",
    "Answer the following QUESTION based on the given CONTEXT and the above INSTRUCTIONS:\n",
    "\"{question}\"\n",
    "\n",
    "Answer:\"\"\"\n",
    "prompt = PromptTemplate.from_template(prompt_template)\n",
    "\n",
    "llm = ChatOpenAI(model='gpt-4o-mini', temperature=0.5)\n",
    "answer_chain = (\n",
    "    prompt\n",
    "    | llm\n",
    "    | StrOutputParser()\n",
    ")\n",
    "\n",
    "def get_triplets_by_entites(entites):\n",
    "    triplets = list()\n",
    "    for entity in entites:\n",
    "        node_ids = graph_db.query(f\"\"\"\n",
    "                FOR n IN {NODE_COLLECTION}\n",
    "                FILTER n._query_name == '{entity.lower()}'\n",
    "                RETURN n._id\n",
    "               \"\"\")\n",
    "        if len(node_ids) == 0: \n",
    "            continue\n",
    "        for node_id in node_ids:\n",
    "            result = graph_db.query(f\"\"\"\n",
    "                    FOR r IN {RELATIONSHIP_COLLECTION}\n",
    "                    FILTER r._from == '{node_id}' \n",
    "                    OR r._to == '{node_id}'\n",
    "                    RETURN r.triplet_sentence\n",
    "                \"\"\")\n",
    "            triplets.extend(result)\n",
    "    return triplets\n",
    "\n",
    "def get_answer(query):\n",
    "    input = {'input': query}\n",
    "    response = entity_extraction_chain.invoke(input)\n",
    "    entites = json.loads(response.strip())\n",
    "    print(entites)\n",
    "    triplets = get_triplets_by_entites(entites)\n",
    "    print(json.dumps(triplets, indent=4, ensure_ascii=False))\n",
    "    context = '\\n'.join(f\"{i+1}. {str(triplet)}\" for i, triplet in enumerate(triplets))\n",
    "    # triplets = '\\n'.join(str(triplet) for triplet in triplets)\n",
    "    input = {'question': query, 'context': context}\n",
    "    response = answer_chain.invoke(input)\n",
    "    return response.strip()"
   ]
  },
  {
   "cell_type": "code",
   "execution_count": 7,
   "metadata": {},
   "outputs": [
    {
     "name": "stdout",
     "output_type": "stream",
     "text": [
      "['FPT AI']\n",
      "[\n",
      "    \"FPT AI có giải pháp FPT AI Chat, nền tảng hội thoại thông minh cho phép tạo lập và quản lý chatbot tự động giao tiếp hai chiều với khách hàng.\",\n",
      "    \"FPT AI cung cấp giải pháp FPT AI Engage, nền tảng trợ lý ảo tổng đài thực hiện cuộc gọi tự động hai chiều với giọng nói tự nhiên.\",\n",
      "    \"FPT AI sở hữu giải pháp FPT AI Read, nền tảng nhận diện và trích xuất thông tin từ ảnh chụp với khả năng xử lý đa dạng mọi loại văn bản.\",\n",
      "    \"FPT AI có giải pháp FPT AI Enhance, cho phép tổng đài tự động toàn diện quy trình quản lý chất lượng và theo dõi các chỉ số chuyên sâu theo thời gian thực.\",\n",
      "    \"FPT AI cung cấp giải pháp FPT AI eKYC, khả năng định danh khách hàng hoàn chỉnh với nhiều cấp độ bảo mật.\",\n",
      "    \"FPT AI giúp nâng cao hiệu suất xử lý công việc, mang lại sự kết hợp hoàn hảo giữa người và máy.\",\n",
      "    \"FPT AI gắn kết khách hàng hiệu quả thông qua việc tiếp cận, tương tác và thu hút tối đa khách hàng.\",\n",
      "    \"FPT AI kiến tạo giá trị mới cho khách hàng thông qua việc thiết lập những trải nghiệm mới và thói quen sử dụng mới giữa doanh nghiệp và người dùng cuối.\",\n",
      "    \"FPT AI kỳ vọng tạo đột phá trong hoạt động vận hành của doanh nghiệp, với mục tiêu tăng 80% năng suất, tiết kiệm 60% chi phí và tiết kiệm 90% thời gian.\",\n",
      "    \"FPT Smart Cloud sở hữu nền tảng FPT AI, mang đến các giải pháp trí tuệ nhân tạo toàn diện cho doanh nghiệp.\"\n",
      "]\n",
      "FPT AI là một nền tảng trí tuệ nhân tạo do FPT phát triển, cung cấp các giải pháp như FPT AI Chat (nền tảng hội thoại thông minh), FPT AI Engage (trợ lý ảo tổng đài), FPT AI Read (nhận diện và trích xuất thông tin từ ảnh), FPT AI Enhance (quản lý chất lượng và theo dõi chỉ số), và FPT AI eKYC (định danh khách hàng). Mục tiêu của FPT AI là nâng cao hiệu suất xử lý công việc, gắn kết khách hàng hiệu quả, và tạo ra giá trị mới cho doanh nghiệp, với kỳ vọng tăng 80% năng suất, tiết kiệm 60% chi phí và 90% thời gian. FPT Smart Cloud cũng sở hữu nền tảng này, mang đến các giải pháp trí tuệ nhân tạo toàn diện cho doanh nghiệp.\n"
     ]
    }
   ],
   "source": [
    "query = \"\"\"FPT AI là gì?\"\"\"\n",
    "answer = get_answer(query)\n",
    "print(answer)"
   ]
  },
  {
   "cell_type": "code",
   "execution_count": null,
   "metadata": {},
   "outputs": [],
   "source": []
  }
 ],
 "metadata": {
  "kernelspec": {
   "display_name": "base",
   "language": "python",
   "name": "python3"
  },
  "language_info": {
   "codemirror_mode": {
    "name": "ipython",
    "version": 3
   },
   "file_extension": ".py",
   "mimetype": "text/x-python",
   "name": "python",
   "nbconvert_exporter": "python",
   "pygments_lexer": "ipython3",
   "version": "3.9.7"
  }
 },
 "nbformat": 4,
 "nbformat_minor": 2
}
